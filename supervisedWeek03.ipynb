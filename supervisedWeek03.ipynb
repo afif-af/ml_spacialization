{
  "nbformat": 4,
  "nbformat_minor": 0,
  "metadata": {
    "colab": {
      "provenance": [],
      "authorship_tag": "ABX9TyO9Sdt2lzCPDzYOTYd6hmHE",
      "include_colab_link": true
    },
    "kernelspec": {
      "name": "python3",
      "display_name": "Python 3"
    },
    "language_info": {
      "name": "python"
    }
  },
  "cells": [
    {
      "cell_type": "markdown",
      "metadata": {
        "id": "view-in-github",
        "colab_type": "text"
      },
      "source": [
        "<a href=\"https://colab.research.google.com/github/afif-af/ML/blob/main/supervisedWeek03.ipynb\" target=\"_parent\"><img src=\"https://colab.research.google.com/assets/colab-badge.svg\" alt=\"Open In Colab\"/></a>"
      ]
    },
    {
      "cell_type": "markdown",
      "source": [
        "# W3_c01"
      ],
      "metadata": {
        "id": "ZuYVXNfG291Z"
      }
    },
    {
      "cell_type": "code",
      "execution_count": 3,
      "metadata": {
        "id": "Ekt0bs2Pg96j"
      },
      "outputs": [],
      "source": [
        "import numpy as np\n",
        "import matplotlib.pyplot as plt\n"
      ]
    },
    {
      "cell_type": "code",
      "source": [
        "input_array=np.array([1,2,3])\n",
        "exp_array=np.exp(input_array)\n",
        "print(\"input to exp :\",input_array)\n",
        "print(\"output of exp :\",exp_array)\n",
        "\n",
        "input_val=1\n",
        "exp_val=np.exp(input_val)\n",
        "print(\"input to exp :\",input_val)\n",
        "print(\"output of exp :\",exp_val)\n"
      ],
      "metadata": {
        "id": "8jOoPCo9hGfL",
        "colab": {
          "base_uri": "https://localhost:8080/"
        },
        "outputId": "05621615-3457-4ce5-a9f8-b680887e2d0b"
      },
      "execution_count": 6,
      "outputs": [
        {
          "output_type": "stream",
          "name": "stdout",
          "text": [
            "input to exp : [1 2 3]\n",
            "output of exp : [ 2.71828183  7.3890561  20.08553692]\n",
            "input to exp : 1\n",
            "output of exp : 2.718281828459045\n"
          ]
        }
      ]
    },
    {
      "cell_type": "code",
      "source": [],
      "metadata": {
        "id": "huQ-CCQleZkh"
      },
      "execution_count": null,
      "outputs": []
    }
  ]
}