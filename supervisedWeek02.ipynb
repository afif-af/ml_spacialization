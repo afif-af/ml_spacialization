{
  "nbformat": 4,
  "nbformat_minor": 0,
  "metadata": {
    "colab": {
      "provenance": [],
      "authorship_tag": "ABX9TyNrDsE4rOpHJw2Wm37UOXDx",
      "include_colab_link": true
    },
    "kernelspec": {
      "name": "python3",
      "display_name": "Python 3"
    },
    "language_info": {
      "name": "python"
    }
  },
  "cells": [
    {
      "cell_type": "markdown",
      "metadata": {
        "id": "view-in-github",
        "colab_type": "text"
      },
      "source": [
        "<a href=\"https://colab.research.google.com/github/afif-af/ML/blob/main/supervisedWeek02.ipynb\" target=\"_parent\"><img src=\"https://colab.research.google.com/assets/colab-badge.svg\" alt=\"Open In Colab\"/></a>"
      ]
    },
    {
      "cell_type": "code",
      "execution_count": 1,
      "metadata": {
        "id": "4cNOx3ubtP-_"
      },
      "outputs": [],
      "source": [
        "import numpy as np\n",
        "import time"
      ]
    },
    {
      "cell_type": "code",
      "source": [
        "a=np.zeros(4)\n",
        "print(f\"np.zeros(4): a={a},a shape={a.shape},a data type={a.dtype}\")\n",
        "a=np.zeros((4,))\n",
        "print(f\"np.zeros(4): a={a},a shape={a.shape},a data type={a.dtype}\")\n",
        "a=np.random.random_sample(4);\n",
        "print(f\"np.random.random_sample(4): a={a},a shape={a.shape},a data type={a.dtype}\")"
      ],
      "metadata": {
        "colab": {
          "base_uri": "https://localhost:8080/"
        },
        "id": "iKJylAp2nlx9",
        "outputId": "cab10135-3cf1-4b51-b4d9-be4931f60e1a"
      },
      "execution_count": 10,
      "outputs": [
        {
          "output_type": "stream",
          "name": "stdout",
          "text": [
            "np.zeros(4): a=[0. 0. 0. 0.],a shape=(4,),a data type=float64\n",
            "np.zeros(4): a=[0. 0. 0. 0.],a shape=(4,),a data type=float64\n",
            "np.random.random_sample(4): a=[0.48474004 0.46814906 0.9088457  0.36864212],a shape=(4,),a data type=float64\n"
          ]
        }
      ]
    },
    {
      "cell_type": "code",
      "source": [
        "a=np.arange(4)\n",
        "print(f\"np.arange(4.): a={a},a shape={a.shape},a data type={a.dtype}\")\n",
        "a=np.random.rand(4)\n",
        "print(f\"np.random.rand(4): a={a},a shape={a.shape},a data type={a.dtype}\")"
      ],
      "metadata": {
        "colab": {
          "base_uri": "https://localhost:8080/"
        },
        "id": "YbGR2xqVzpQu",
        "outputId": "bc7ec21b-618e-4107-e817-99439c29e381"
      },
      "execution_count": 14,
      "outputs": [
        {
          "output_type": "stream",
          "name": "stdout",
          "text": [
            "np.arange(4.): a=[0 1 2 3],a shape=(4,),a data type=int64\n",
            "np.random.rand(4): a=[0.50366591 0.86892074 0.14276602 0.41126471],a shape=(4,),a data type=float64\n"
          ]
        }
      ]
    },
    {
      "cell_type": "code",
      "source": [
        "a=np.array([5,4,3,2])\n",
        "print(f\"np.array([5,4,3,2]): a={a},a shape={a.shape},a data type={a.dtype}\")\n",
        "a=np.array([5.,4,3,2])\n",
        "print(f\"np.array([5.,4,3,2]): a={a},a shape={a.shape},a data type={a.dtype}\")"
      ],
      "metadata": {
        "colab": {
          "base_uri": "https://localhost:8080/"
        },
        "id": "pi1pmmqq06c0",
        "outputId": "dcd9ffd1-98bd-4090-96fe-61f6d4676960"
      },
      "execution_count": 15,
      "outputs": [
        {
          "output_type": "stream",
          "name": "stdout",
          "text": [
            "np.array([5,4,3,2]): a=[5 4 3 2],a shape=(4,),a data type=int64\n",
            "np.array([5.,4,3,2]): a=[5. 4. 3. 2.],a shape=(4,),a data type=float64\n"
          ]
        }
      ]
    },
    {
      "cell_type": "code",
      "source": [
        "a=np.arange(10)\n",
        "print(a)\n",
        "print(f\"a[2]shape :{a[2].shape} a[2]={a[2]},accessing an element returns a scalar\")\n",
        "print(f\"a[-1]={a[-1]}\")\n",
        "\n",
        "try:\n",
        "   c=a[10]\n",
        "except Exception as e:\n",
        "   print(\"The error message you'll see is:\")\n",
        "   print(e)"
      ],
      "metadata": {
        "colab": {
          "base_uri": "https://localhost:8080/"
        },
        "id": "9zkfnsKh1gnV",
        "outputId": "80b9c57d-f4b4-4629-f07e-9ec770db720f"
      },
      "execution_count": 18,
      "outputs": [
        {
          "output_type": "stream",
          "name": "stdout",
          "text": [
            "[0 1 2 3 4 5 6 7 8 9]\n",
            "a[2]shape :() a[2]=2,accessing an element returns a scalar\n",
            "a[-1]=9\n",
            "The error message you'll see is:\n",
            "index 10 is out of bounds for axis 0 with size 10\n"
          ]
        }
      ]
    },
    {
      "cell_type": "code",
      "source": [],
      "metadata": {
        "id": "V1joMFb-2Ffl"
      },
      "execution_count": null,
      "outputs": []
    }
  ]
}