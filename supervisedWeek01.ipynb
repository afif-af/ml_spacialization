{
  "nbformat": 4,
  "nbformat_minor": 0,
  "metadata": {
    "colab": {
      "provenance": [],
      "authorship_tag": "ABX9TyMU+K4H158bC9KngdgDbPZZ",
      "include_colab_link": true
    },
    "kernelspec": {
      "name": "python3",
      "display_name": "Python 3"
    },
    "language_info": {
      "name": "python"
    }
  },
  "cells": [
    {
      "cell_type": "markdown",
      "metadata": {
        "id": "view-in-github",
        "colab_type": "text"
      },
      "source": [
        "<a href=\"https://colab.research.google.com/github/afif-af/ML/blob/main/supervisedWeek01.ipynb\" target=\"_parent\"><img src=\"https://colab.research.google.com/assets/colab-badge.svg\" alt=\"Open In Colab\"/></a>"
      ]
    },
    {
      "cell_type": "code",
      "execution_count": 114,
      "metadata": {
        "id": "EEJCwnC_X2FI",
        "colab": {
          "base_uri": "https://localhost:8080/"
        },
        "outputId": "d5ef6a11-a184-4d64-d924-6309ae813f89"
      },
      "outputs": [
        {
          "output_type": "stream",
          "name": "stdout",
          "text": [
            "how are you\n"
          ]
        }
      ],
      "source": [
        "print(\"how are you\")"
      ]
    },
    {
      "cell_type": "code",
      "source": [
        "variable=\"variable declare\"\n",
        "print(f\"variable f string {variable}\")\n"
      ],
      "metadata": {
        "colab": {
          "base_uri": "https://localhost:8080/"
        },
        "id": "QFNBR8SJ8y9O",
        "outputId": "3f85edf1-caa0-45e4-d6e4-ccced17ebbe8"
      },
      "execution_count": 115,
      "outputs": [
        {
          "output_type": "stream",
          "name": "stdout",
          "text": [
            "variable f string variable declare\n"
          ]
        }
      ]
    },
    {
      "cell_type": "code",
      "source": [
        "import math, copy\n",
        "import numpy as np\n",
        "import matplotlib.pyplot as plt\n",
        "\n",
        "# from lab_utils_uni import plt_contour_wgrad"
      ],
      "metadata": {
        "id": "xRVxgVM-FtcH"
      },
      "execution_count": 145,
      "outputs": []
    },
    {
      "cell_type": "code",
      "source": [
        "x_train=np.array([1.0,2.0])\n",
        "y_train=np.array([300.0,500.0])"
      ],
      "metadata": {
        "id": "LIWnFkamGfxP"
      },
      "execution_count": 117,
      "outputs": []
    },
    {
      "cell_type": "code",
      "source": [
        "print(f\"x_train = {x_train}\")\n",
        "print(f\"y_train = {y_train}\")"
      ],
      "metadata": {
        "colab": {
          "base_uri": "https://localhost:8080/"
        },
        "id": "nH70vfoHHdr2",
        "outputId": "028b1d22-eb92-413d-a7fd-604a8e88d136"
      },
      "execution_count": 118,
      "outputs": [
        {
          "output_type": "stream",
          "name": "stdout",
          "text": [
            "x_train = [1. 2.]\n",
            "y_train = [300. 500.]\n"
          ]
        }
      ]
    },
    {
      "cell_type": "code",
      "source": [
        "print(f\"x_train.shape :{x_train.shape}\")\n",
        "m=x_train.shape[0]\n",
        "print(f\"Number of training examples is:{m}\")"
      ],
      "metadata": {
        "colab": {
          "base_uri": "https://localhost:8080/"
        },
        "id": "8PnnXcAKHiUu",
        "outputId": "c339a8d2-aad9-4f98-fcee-5fead30df84e"
      },
      "execution_count": 119,
      "outputs": [
        {
          "output_type": "stream",
          "name": "stdout",
          "text": [
            "x_train.shape :(2,)\n",
            "Number of training examples is:2\n"
          ]
        }
      ]
    },
    {
      "cell_type": "code",
      "source": [
        "m=len(x_train)\n",
        "print(f\"number of trainning examples is:{m}\")"
      ],
      "metadata": {
        "colab": {
          "base_uri": "https://localhost:8080/"
        },
        "id": "qx38j0f7LSb4",
        "outputId": "9bce4593-2a2a-48a7-e4eb-8c26946581d1"
      },
      "execution_count": 120,
      "outputs": [
        {
          "output_type": "stream",
          "name": "stdout",
          "text": [
            "number of trainning examples is:2\n"
          ]
        }
      ]
    },
    {
      "cell_type": "code",
      "source": [
        "i=0\n",
        "x_i=x_train[i]\n",
        "y_i=y_train[i]\n",
        "print(f\"(x^({i}),y^({i}) = ({x_i},{y_i})\")"
      ],
      "metadata": {
        "colab": {
          "base_uri": "https://localhost:8080/"
        },
        "id": "RDsMQ8teLcNm",
        "outputId": "334bd955-c689-4b83-c5d2-6581404d5964"
      },
      "execution_count": 121,
      "outputs": [
        {
          "output_type": "stream",
          "name": "stdout",
          "text": [
            "(x^(0),y^(0) = (1.0,300.0)\n"
          ]
        }
      ]
    },
    {
      "cell_type": "code",
      "source": [
        "plt.scatter(x_train,y_train,marker='x',c='r')\n",
        "plt.title(\"Housing price\")\n",
        "plt.xlabel('size of (1000 sqft)')\n",
        "plt.ylabel('price (in 1000s of dollars)')\n",
        "plt.show"
      ],
      "metadata": {
        "colab": {
          "base_uri": "https://localhost:8080/",
          "height": 641
        },
        "id": "CiTkfVza3EdC",
        "outputId": "09c2c950-0e90-493b-f6f2-6c6a29ef8f35"
      },
      "execution_count": 122,
      "outputs": [
        {
          "output_type": "execute_result",
          "data": {
            "text/plain": [
              "<function matplotlib.pyplot.show(close=None, block=None)>"
            ],
            "text/html": [
              "<div style=\"max-width:800px; border: 1px solid var(--colab-border-color);\"><style>\n",
              "      pre.function-repr-contents {\n",
              "        overflow-x: auto;\n",
              "        padding: 8px 12px;\n",
              "        max-height: 500px;\n",
              "      }\n",
              "\n",
              "      pre.function-repr-contents.function-repr-contents-collapsed {\n",
              "        cursor: pointer;\n",
              "        max-height: 100px;\n",
              "      }\n",
              "    </style>\n",
              "    <pre style=\"white-space: initial; background:\n",
              "         var(--colab-secondary-surface-color); padding: 8px 12px;\n",
              "         border-bottom: 1px solid var(--colab-border-color);\"><b>matplotlib.pyplot.show</b><br/>def show(*args, **kwargs) -&gt; None</pre><pre class=\"function-repr-contents function-repr-contents-collapsed\" style=\"\"><a class=\"filepath\" style=\"display:none\" href=\"#\">/usr/local/lib/python3.11/dist-packages/matplotlib/pyplot.py</a>Display all open figures.\n",
              "\n",
              "Parameters\n",
              "----------\n",
              "block : bool, optional\n",
              "    Whether to wait for all figures to be closed before returning.\n",
              "\n",
              "    If `True` block and run the GUI main loop until all figure windows\n",
              "    are closed.\n",
              "\n",
              "    If `False` ensure that all figure windows are displayed and return\n",
              "    immediately.  In this case, you are responsible for ensuring\n",
              "    that the event loop is running to have responsive figures.\n",
              "\n",
              "    Defaults to True in non-interactive mode and to False in interactive\n",
              "    mode (see `.pyplot.isinteractive`).\n",
              "\n",
              "See Also\n",
              "--------\n",
              "ion : Enable interactive mode, which shows / updates the figure after\n",
              "      every plotting command, so that calling ``show()`` is not necessary.\n",
              "ioff : Disable interactive mode.\n",
              "savefig : Save the figure to an image file instead of showing it on screen.\n",
              "\n",
              "Notes\n",
              "-----\n",
              "**Saving figures to file and showing a window at the same time**\n",
              "\n",
              "If you want an image file as well as a user interface window, use\n",
              "`.pyplot.savefig` before `.pyplot.show`. At the end of (a blocking)\n",
              "``show()`` the figure is closed and thus unregistered from pyplot. Calling\n",
              "`.pyplot.savefig` afterwards would save a new and thus empty figure. This\n",
              "limitation of command order does not apply if the show is non-blocking or\n",
              "if you keep a reference to the figure and use `.Figure.savefig`.\n",
              "\n",
              "**Auto-show in jupyter notebooks**\n",
              "\n",
              "The jupyter backends (activated via ``%matplotlib inline``,\n",
              "``%matplotlib notebook``, or ``%matplotlib widget``), call ``show()`` at\n",
              "the end of every cell by default. Thus, you usually don&#x27;t have to call it\n",
              "explicitly there.</pre>\n",
              "      <script>\n",
              "      if (google.colab.kernel.accessAllowed && google.colab.files && google.colab.files.view) {\n",
              "        for (const element of document.querySelectorAll('.filepath')) {\n",
              "          element.style.display = 'block'\n",
              "          element.onclick = (event) => {\n",
              "            event.preventDefault();\n",
              "            event.stopPropagation();\n",
              "            google.colab.files.view(element.textContent, 569);\n",
              "          };\n",
              "        }\n",
              "      }\n",
              "      for (const element of document.querySelectorAll('.function-repr-contents')) {\n",
              "        element.onclick = (event) => {\n",
              "          event.preventDefault();\n",
              "          event.stopPropagation();\n",
              "          element.classList.toggle('function-repr-contents-collapsed');\n",
              "        };\n",
              "      }\n",
              "      </script>\n",
              "      </div>"
            ]
          },
          "metadata": {},
          "execution_count": 122
        },
        {
          "output_type": "display_data",
          "data": {
            "text/plain": [
              "<Figure size 640x480 with 1 Axes>"
            ],
            "image/png": "[encoded data removed]"
          },
          "metadata": {}
        }
      ]
    },
    {
      "cell_type": "code",
      "source": [
        "w=100\n",
        "b=100\n",
        "print(f\"w:{w}\")\n",
        "print(f\"b:{b}\")"
      ],
      "metadata": {
        "colab": {
          "base_uri": "https://localhost:8080/"
        },
        "id": "Ba29CYm43-Jp",
        "outputId": "9f6672f2-38f2-4d79-f0de-1c66ef31ecd0"
      },
      "execution_count": 123,
      "outputs": [
        {
          "output_type": "stream",
          "name": "stdout",
          "text": [
            "w:100\n",
            "b:100\n"
          ]
        }
      ]
    },
    {
      "cell_type": "code",
      "source": [
        "def compute_model_output(x,w,b):\n",
        "  m=x.shape[0]\n",
        "  f_wb=np.zeros(m)\n",
        "  for i in range(m):\n",
        "    f_wb[i]=w*x[i]+b\n",
        "  return f_wb\n"
      ],
      "metadata": {
        "id": "3HZnd3cZ4xpZ"
      },
      "execution_count": 124,
      "outputs": []
    },
    {
      "cell_type": "code",
      "source": [
        "tmp_f_wb = compute_model_output(x_train,w,b)\n",
        "\n",
        "plt.plot(x_train,tmp_f_wb,c='b',label='our prediction')\n",
        "plt.scatter(x_train,y_train,c='r',label='actual valuses')\n",
        "plt.title(\"hosing price\")\n",
        "plt.xlabel('price(int 1000s of dollars)')\n",
        "plt.ylabel('size (1000 sqft)')\n",
        "plt.legend()\n",
        "plt.show()\n"
      ],
      "metadata": {
        "colab": {
          "base_uri": "https://localhost:8080/",
          "height": 472
        },
        "id": "lMemOOCz5jaM",
        "outputId": "61dc2635-e0da-4780-b5af-2ab442391bfb"
      },
      "execution_count": 125,
      "outputs": [
        {
          "output_type": "display_data",
          "data": {
            "text/plain": [
              "<Figure size 640x480 with 1 Axes>"
            ],
            "image/png": "[encoded data removed]"
          },
          "metadata": {}
        }
      ]
    },
    {
      "cell_type": "code",
      "source": [
        "w=200\n",
        "b=100\n",
        "x_i=1.2\n",
        "cost_1200sqft =w*x_i+b\n",
        "print(f\"${cost_1200sqft:.0f} thousand dollars\")"
      ],
      "metadata": {
        "colab": {
          "base_uri": "https://localhost:8080/"
        },
        "id": "5K9sRsqe6Vsx",
        "outputId": "f16fa806-996e-4883-c925-ddf344e6c66d"
      },
      "execution_count": 126,
      "outputs": [
        {
          "output_type": "stream",
          "name": "stdout",
          "text": [
            "$340 thousand dollars\n"
          ]
        }
      ]
    },
    {
      "cell_type": "markdown",
      "source": [
        "C1_W1_Lab03"
      ],
      "metadata": {
        "id": "pNdqf-CEadds"
      }
    },
    {
      "cell_type": "code",
      "source": [
        "def compute_cost(x,y,w,b):\n",
        "  m=x.shape[0]\n",
        "  cost_sum=0\n",
        "  for i in range(m):\n",
        "    f_wb=w*x[i]+b\n",
        "    cost=(f_wb-y[i])**2\n",
        "    cost_sum=cost_sum+cost\n",
        "  total_cost=(1/2*m)*cost_sum\n",
        "  return total_cost\n",
        "\n"
      ],
      "metadata": {
        "id": "5Tbnv2M07286"
      },
      "execution_count": 127,
      "outputs": []
    },
    {
      "cell_type": "code",
      "source": [
        "# plt_intuition(x_train,y_train)"
      ],
      "metadata": {
        "id": "vGkWQx4OdvJ-"
      },
      "execution_count": 128,
      "outputs": []
    },
    {
      "cell_type": "code",
      "source": [
        "# x_train=np.array([1.0,1.7,2.0,2.5,3.0,3.2])\n",
        "# y_train=np.array([250,300,480,430,630,730,])"
      ],
      "metadata": {
        "id": "Ec-aCJ-HerEN"
      },
      "execution_count": 129,
      "outputs": []
    },
    {
      "cell_type": "code",
      "source": [
        "# plt.close('all')\n",
        "# fig, ax ,dyn_items = plt_stationary(x_train,y_train)\n",
        "# updater = plt_update_onclick(fig,ax,x_train,y_train,dyn_items)"
      ],
      "metadata": {
        "id": "pdXuleHOgdTc"
      },
      "execution_count": 130,
      "outputs": []
    },
    {
      "cell_type": "code",
      "source": [
        "# snow_bowl()"
      ],
      "metadata": {
        "id": "makFByMagz-E"
      },
      "execution_count": 131,
      "outputs": []
    },
    {
      "cell_type": "markdown",
      "source": [
        "C1_w1_lab04"
      ],
      "metadata": {
        "id": "lRTJx8Z0hHY8"
      }
    },
    {
      "cell_type": "code",
      "source": [
        "# plt.style.use('./deeplearning.mplstyle')\n",
        "# from lab_utils_uni import plt_house_x, plt_contour_wgrad, plt_divergence, plt_gradients"
      ],
      "metadata": {
        "id": "RvR51oIdhExz"
      },
      "execution_count": 132,
      "outputs": []
    },
    {
      "cell_type": "code",
      "source": [
        "x_train = np.array([1.0,2.0])\n",
        "y_train = np.array([300.0,500.0])"
      ],
      "metadata": {
        "id": "VOQqhVbWkgvj"
      },
      "execution_count": 133,
      "outputs": []
    },
    {
      "cell_type": "code",
      "source": [
        "def compute_cost(x,y,w,b):\n",
        "  m=x.shape[0]\n",
        "  cost=0\n",
        "  for i in range(m):\n",
        "      f_wb=w*x[i]+b\n",
        "      cost=cost+ (f_wb-y[i])**2\n",
        "  total_cost=(1/(2*m))*cost\n",
        "\n",
        "  return total_cost"
      ],
      "metadata": {
        "id": "LpJM_GDYlhic"
      },
      "execution_count": 134,
      "outputs": []
    },
    {
      "cell_type": "code",
      "source": [
        "def compute_gradient(x,y,w,b):\n",
        "  m=x.shape[0]\n",
        "  dj_dw=0\n",
        "  dj_db=0\n",
        "\n",
        "  for i in range(m):\n",
        "    f_wb=w*x[i]+b\n",
        "    dj_dw_i=(f_wb-y[i])*x[i]\n",
        "    dj_db_i=(f_wb-y[i])\n",
        "    dj_dw += dj_dw + dj_dw_i\n",
        "    dj_db += dj_db + dj_db_i\n",
        "  dj_dw=dj_dw/m\n",
        "  dj_db=dj_db/m\n",
        "\n",
        "  return dj_dw,dj_db"
      ],
      "metadata": {
        "id": "ObLXzUBImkc8"
      },
      "execution_count": 135,
      "outputs": []
    },
    {
      "cell_type": "code",
      "source": [
        "# plt_gradients(x_train,y_train,compute_cost,compute_gradient)\n",
        "# plt.show()"
      ],
      "metadata": {
        "id": "yHcajMvonXSN"
      },
      "execution_count": 136,
      "outputs": []
    },
    {
      "cell_type": "code",
      "source": [
        "def gradient_descent(x,y,w_in,b_in,alpha,num_iters,cost_function,gradient_function):\n",
        "   j_history=[]\n",
        "   p_history=[]\n",
        "   b=b_in\n",
        "   w=w_in\n",
        "   for i in range(num_iters):\n",
        "      dj_dw,dj_db=gradient_function(x,y,w,b)\n",
        "      b=b-alpha*dj_db\n",
        "      w=w-alpha*dj_dw\n",
        "      if i<100000:\n",
        "        j_history.append(cost_function(x,y,w,b))\n",
        "        p_history.append([w,b])\n",
        "\n",
        "      if i% math.ceil(num_iters/10)==0:\n",
        "        print(f\"Iteration {i:4}: Cost{j_history[-1]:0.2e}\",\n",
        "              f\"dj_dw:{dj_dw:0.3e},dj_db:{dj_db:0.3e}\",\n",
        "              f\"w:{w:0.3e},b:{b:0.5e}\")\n",
        "   return w,b,j_history,p_history\n"
      ],
      "metadata": {
        "id": "t8b243SLsZAF"
      },
      "execution_count": 137,
      "outputs": []
    },
    {
      "cell_type": "code",
      "source": [
        "w_init=0\n",
        "b_init=0\n",
        "\n",
        "iterations=10000\n",
        "tmp_alpha=1.0e-2\n",
        "\n",
        "w_final,b_final,J_hist,p_hist=gradient_descent(x_train,y_train,w_init,b_init,tmp_alpha,iterations,compute_cost,compute_gradient)\n",
        "print(f\"(w,b) found by gradient descent:({w_final:8.4f},{b_final:8.4f})\")\n"
      ],
      "metadata": {
        "colab": {
          "base_uri": "https://localhost:8080/"
        },
        "id": "EOxLEsmSx7qt",
        "outputId": "aaadda5d-a9ae-4af2-fe5d-bfee7cb054fc"
      },
      "execution_count": 138,
      "outputs": [
        {
          "output_type": "stream",
          "name": "stdout",
          "text": [
            "Iteration    0: Cost7.78e+04 dj_dw:-8.000e+02,dj_db:-5.500e+02 w:8.000e+00,b:5.50000e+00\n",
            "Iteration 1000: Cost4.21e+00 dj_dw:-6.584e-01,dj_db:9.501e-01 w:1.942e+02,b:1.08325e+02\n",
            "Iteration 2000: Cost4.31e-01 dj_dw:-2.104e-01,dj_db:3.037e-01 w:1.982e+02,b:1.02661e+02\n",
            "Iteration 3000: Cost4.40e-02 dj_dw:-6.726e-02,dj_db:9.706e-02 w:1.994e+02,b:1.00850e+02\n",
            "Iteration 4000: Cost4.49e-03 dj_dw:-2.150e-02,dj_db:3.102e-02 w:1.998e+02,b:1.00272e+02\n",
            "Iteration 5000: Cost4.59e-04 dj_dw:-6.871e-03,dj_db:9.915e-03 w:1.999e+02,b:1.00087e+02\n",
            "Iteration 6000: Cost4.69e-05 dj_dw:-2.196e-03,dj_db:3.169e-03 w:2.000e+02,b:1.00028e+02\n",
            "Iteration 7000: Cost4.79e-06 dj_dw:-7.019e-04,dj_db:1.013e-03 w:2.000e+02,b:1.00009e+02\n",
            "Iteration 8000: Cost4.89e-07 dj_dw:-2.243e-04,dj_db:3.237e-04 w:2.000e+02,b:1.00003e+02\n",
            "Iteration 9000: Cost5.00e-08 dj_dw:-7.170e-05,dj_db:1.035e-04 w:2.000e+02,b:1.00001e+02\n",
            "(w,b) found by gradient descent:(199.9998,100.0003)\n"
          ]
        }
      ]
    },
    {
      "cell_type": "code",
      "source": [
        "fig,(ax1,ax2)=plt.subplots(1,2,constrained_layout=True,figsize=(12,4))\n",
        "ax1.plot(J_hist[:100 ])\n",
        "ax2.plot(1000+np.arange(len(J_hist[1000:])),J_hist[1000:])\n",
        "ax1.set_title(\"cost vs iteration(start)\")\n",
        "ax1.set_ylabel(\"cost\")\n",
        "ax1.set_xlabel(\"iteration step\")\n",
        "\n",
        "\n",
        "ax2.set_title(\"cost vs iteration(end)\")\n",
        "ax2.set_ylabel(\"cost\")\n",
        "ax2.set_xlabel(\"iteration step\")\n",
        "plt.show()"
      ],
      "metadata": {
        "colab": {
          "base_uri": "https://localhost:8080/",
          "height": 236
        },
        "id": "uew7ATIizvrH",
        "outputId": "c6b45fcc-e917-49f1-d46d-06cf565598df"
      },
      "execution_count": 139,
      "outputs": [
        {
          "output_type": "display_data",
          "data": {
            "text/plain": [
              "<Figure size 1200x400 with 2 Axes>"
            ],
            "image/png": "[encoded data removed]"
          },
          "metadata": {}
        }
      ]
    },
    {
      "cell_type": "code",
      "source": [
        "print(f\"1000 sqft house prediction {w_final*1.0 +b_final:0.1f} Thousand dollars\")\n",
        "print(f\"1200 sqft house prediction {w_final*1.2 +b_final:0.1f} Thousand dollars\")\n",
        "print(f\"2000 sqft house prediction {w_final*2.0 +b_final:0.1f} Thousand dollars\")"
      ],
      "metadata": {
        "colab": {
          "base_uri": "https://localhost:8080/"
        },
        "id": "L-99pbpG3bkd",
        "outputId": "7c615f99-be75-4bd8-db3e-6435d65281b1"
      },
      "execution_count": 142,
      "outputs": [
        {
          "output_type": "stream",
          "name": "stdout",
          "text": [
            "1000 sqft house prediction 300.0 Thousand dollars\n",
            "1200 sqft house prediction 340.0 Thousand dollars\n",
            "2000 sqft house prediction 500.0 Thousand dollars\n"
          ]
        }
      ]
    },
    {
      "cell_type": "code",
      "source": [
        "fig,ax=plt.subplots(1,1,figsize=(12,6))\n",
        "plt_contour_wgrad(x_train,y_train,p_hist,ax)"
      ],
      "metadata": {
        "colab": {
          "base_uri": "https://localhost:8080/",
          "height": 490
        },
        "id": "wWxTQJzO4F1V",
        "outputId": "f8b43b41-8f41-4b73-ea98-f89165da628d"
      },
      "execution_count": 143,
      "outputs": [
        {
          "output_type": "error",
          "ename": "NameError",
          "evalue": "name 'plt_contour_wgrad' is not defined",
          "traceback": [
            "\u001b[0;31m---------------------------------------------------------------------------\u001b[0m",
            "\u001b[0;31mNameError\u001b[0m                                 Traceback (most recent call last)",
            "\u001b[0;32m<ipython-input-143-0c64c43986cc>\u001b[0m in \u001b[0;36m<cell line: 0>\u001b[0;34m()\u001b[0m\n\u001b[1;32m      1\u001b[0m \u001b[0mfig\u001b[0m\u001b[0;34m,\u001b[0m\u001b[0max\u001b[0m\u001b[0;34m=\u001b[0m\u001b[0mplt\u001b[0m\u001b[0;34m.\u001b[0m\u001b[0msubplots\u001b[0m\u001b[0;34m(\u001b[0m\u001b[0;36m1\u001b[0m\u001b[0;34m,\u001b[0m\u001b[0;36m1\u001b[0m\u001b[0;34m,\u001b[0m\u001b[0mfigsize\u001b[0m\u001b[0;34m=\u001b[0m\u001b[0;34m(\u001b[0m\u001b[0;36m12\u001b[0m\u001b[0;34m,\u001b[0m\u001b[0;36m6\u001b[0m\u001b[0;34m)\u001b[0m\u001b[0;34m)\u001b[0m\u001b[0;34m\u001b[0m\u001b[0;34m\u001b[0m\u001b[0m\n\u001b[0;32m----> 2\u001b[0;31m \u001b[0mplt_contour_wgrad\u001b[0m\u001b[0;34m(\u001b[0m\u001b[0mx_train\u001b[0m\u001b[0;34m,\u001b[0m\u001b[0my_train\u001b[0m\u001b[0;34m,\u001b[0m\u001b[0mp_hist\u001b[0m\u001b[0;34m,\u001b[0m\u001b[0max\u001b[0m\u001b[0;34m)\u001b[0m\u001b[0;34m\u001b[0m\u001b[0;34m\u001b[0m\u001b[0m\n\u001b[0m",
            "\u001b[0;31mNameError\u001b[0m: name 'plt_contour_wgrad' is not defined"
          ]
        },
        {
          "output_type": "display_data",
          "data": {
            "text/plain": [
              "<Figure size 1200x600 with 1 Axes>"
            ],
            "image/png": "[encoded data removed]"
          },
          "metadata": {}
        }
      ]
    },
    {
      "cell_type": "code",
      "source": [
        "fig,ax=plt.subplots(1,1,figsize=(12,4))\n",
        "plt_contour_wgrad(x_train,y_train,p_hist,ax,w_range=[180,220,0.5],b_range=[80,120,0.5],\n",
        "               contours=[1,5,10,20],resolution=0.5)"
      ],
      "metadata": {
        "colab": {
          "base_uri": "https://localhost:8080/",
          "height": 425
        },
        "id": "ZUckpSIR4lRF",
        "outputId": "fd7ce49e-3898-45d4-da79-3537ab053f64"
      },
      "execution_count": 147,
      "outputs": [
        {
          "output_type": "error",
          "ename": "NameError",
          "evalue": "name 'plt_contour_wgrad' is not defined",
          "traceback": [
            "\u001b[0;31m---------------------------------------------------------------------------\u001b[0m",
            "\u001b[0;31mNameError\u001b[0m                                 Traceback (most recent call last)",
            "\u001b[0;32m<ipython-input-147-1ec2a0b0942b>\u001b[0m in \u001b[0;36m<cell line: 0>\u001b[0;34m()\u001b[0m\n\u001b[1;32m      1\u001b[0m \u001b[0mfig\u001b[0m\u001b[0;34m,\u001b[0m\u001b[0max\u001b[0m\u001b[0;34m=\u001b[0m\u001b[0mplt\u001b[0m\u001b[0;34m.\u001b[0m\u001b[0msubplots\u001b[0m\u001b[0;34m(\u001b[0m\u001b[0;36m1\u001b[0m\u001b[0;34m,\u001b[0m\u001b[0;36m1\u001b[0m\u001b[0;34m,\u001b[0m\u001b[0mfigsize\u001b[0m\u001b[0;34m=\u001b[0m\u001b[0;34m(\u001b[0m\u001b[0;36m12\u001b[0m\u001b[0;34m,\u001b[0m\u001b[0;36m4\u001b[0m\u001b[0;34m)\u001b[0m\u001b[0;34m)\u001b[0m\u001b[0;34m\u001b[0m\u001b[0;34m\u001b[0m\u001b[0m\n\u001b[0;32m----> 2\u001b[0;31m plt_contour_wgrad(x_train,y_train,p_hist,ax,w_range=[180,220,0.5],b_range=[80,120,0.5],\n\u001b[0m\u001b[1;32m      3\u001b[0m                contours=[1,5,10,20],resolution=0.5)\n",
            "\u001b[0;31mNameError\u001b[0m: name 'plt_contour_wgrad' is not defined"
          ]
        },
        {
          "output_type": "display_data",
          "data": {
            "text/plain": [
              "<Figure size 1200x400 with 1 Axes>"
            ],
            "image/png": "[encoded data removed]"
          },
          "metadata": {}
        }
      ]
    },
    {
      "cell_type": "code",
      "source": [
        "w_init=0\n",
        "b_init=0\n",
        "iterations=10\n",
        "tmp_alpha=8.0e-1\n",
        "w_final,b_final,J_hist,p_hist=gradient_descent(x_train,y_train,w_init,b_init,tmp_alpha,iterations,compute_cost,compute_gradient)"
      ],
      "metadata": {
        "colab": {
          "base_uri": "https://localhost:8080/"
        },
        "id": "G817yIF55-m9",
        "outputId": "48199e61-24c2-4a52-f2db-797f6b5f1f26"
      },
      "execution_count": 148,
      "outputs": [
        {
          "output_type": "stream",
          "name": "stdout",
          "text": [
            "Iteration    0: Cost5.24e+05 dj_dw:-8.000e+02,dj_db:-5.500e+02 w:6.400e+02,b:4.40000e+02\n",
            "Iteration    1: Cost3.32e+06 dj_dw:2.000e+03,dj_db:1.390e+03 w:-9.600e+02,b:-6.72000e+02\n",
            "Iteration    2: Cost2.09e+07 dj_dw:-5.024e+03,dj_db:-3.478e+03 w:3.059e+03,b:2.11040e+03\n",
            "Iteration    3: Cost1.31e+08 dj_dw:1.260e+04,dj_db:8.734e+03 w:-7.020e+03,b:-4.87680e+03\n",
            "Iteration    4: Cost8.27e+08 dj_dw:-3.161e+04,dj_db:-2.190e+04 w:1.827e+04,b:1.26466e+04\n",
            "Iteration    5: Cost5.21e+09 dj_dw:7.930e+04,dj_db:5.496e+04 w:-4.517e+04,b:-3.13217e+04\n",
            "Iteration    6: Cost3.28e+10 dj_dw:-1.990e+05,dj_db:-1.379e+05 w:1.140e+05,b:7.89809e+04\n",
            "Iteration    7: Cost2.06e+11 dj_dw:4.992e+05,dj_db:3.459e+05 w:-2.853e+05,b:-1.97751e+05\n",
            "Iteration    8: Cost1.30e+12 dj_dw:-1.252e+06,dj_db:-8.678e+05 w:7.165e+05,b:4.96510e+05\n",
            "Iteration    9: Cost8.17e+12 dj_dw:3.142e+06,dj_db:2.177e+06 w:-1.797e+06,b:-1.24526e+06\n"
          ]
        }
      ]
    },
    {
      "cell_type": "code",
      "source": [
        "plt_divergence(plt_hist,J_hist,x_train,y_train)\n",
        "plt.show()"
      ],
      "metadata": {
        "colab": {
          "base_uri": "https://localhost:8080/",
          "height": 158
        },
        "id": "ibSGlaLG6s3e",
        "outputId": "f6256af8-5783-4816-d811-49084521607d"
      },
      "execution_count": 149,
      "outputs": [
        {
          "output_type": "error",
          "ename": "NameError",
          "evalue": "name 'plt_divergence' is not defined",
          "traceback": [
            "\u001b[0;31m---------------------------------------------------------------------------\u001b[0m",
            "\u001b[0;31mNameError\u001b[0m                                 Traceback (most recent call last)",
            "\u001b[0;32m<ipython-input-149-124989ab50e8>\u001b[0m in \u001b[0;36m<cell line: 0>\u001b[0;34m()\u001b[0m\n\u001b[0;32m----> 1\u001b[0;31m \u001b[0mplt_divergence\u001b[0m\u001b[0;34m(\u001b[0m\u001b[0mplt_hist\u001b[0m\u001b[0;34m,\u001b[0m\u001b[0mJ_hist\u001b[0m\u001b[0;34m,\u001b[0m\u001b[0mx_train\u001b[0m\u001b[0;34m,\u001b[0m\u001b[0my_train\u001b[0m\u001b[0;34m)\u001b[0m\u001b[0;34m\u001b[0m\u001b[0;34m\u001b[0m\u001b[0m\n\u001b[0m\u001b[1;32m      2\u001b[0m \u001b[0mplt\u001b[0m\u001b[0;34m.\u001b[0m\u001b[0mshow\u001b[0m\u001b[0;34m(\u001b[0m\u001b[0;34m)\u001b[0m\u001b[0;34m\u001b[0m\u001b[0;34m\u001b[0m\u001b[0m\n",
            "\u001b[0;31mNameError\u001b[0m: name 'plt_divergence' is not defined"
          ]
        }
      ]
    },
    {
      "cell_type": "code",
      "source": [],
      "metadata": {
        "id": "2dyqYuAp7BO9"
      },
      "execution_count": null,
      "outputs": []
    }
  ]
}